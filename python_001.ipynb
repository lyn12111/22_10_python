{
  "nbformat": 4,
  "nbformat_minor": 0,
  "metadata": {
    "colab": {
      "provenance": [],
      "authorship_tag": "ABX9TyMTGZXXnizsnFsY/10FsqCo",
      "include_colab_link": true
    },
    "kernelspec": {
      "name": "python3",
      "display_name": "Python 3"
    },
    "language_info": {
      "name": "python"
    }
  },
  "cells": [
    {
      "cell_type": "markdown",
      "metadata": {
        "id": "view-in-github",
        "colab_type": "text"
      },
      "source": [
        "<a href=\"https://colab.research.google.com/github/lyn12111/22_10_python/blob/main/python_001.ipynb\" target=\"_parent\"><img src=\"https://colab.research.google.com/assets/colab-badge.svg\" alt=\"Open In Colab\"/></a>"
      ]
    },
    {
      "cell_type": "code",
      "execution_count": null,
      "metadata": {
        "id": "8hu_-Z8Tlsyj"
      },
      "outputs": [],
      "source": []
    },
    {
      "cell_type": "markdown",
      "source": [
        "코랩과 깃헙의 첫번째 연결을 진행합니다.\n"
      ],
      "metadata": {
        "id": "15uEDKUemsEV"
      }
    },
    {
      "cell_type": "code",
      "source": [
        "print(\"Hello, Github\")\n",
        "print(\"Hello, Python\")\n",
        "print(\"안녕하세요?\")\n",
        "print(\"prigramming에 입문하신 것을 축하드립니다.\")"
      ],
      "metadata": {
        "colab": {
          "base_uri": "https://localhost:8080/"
        },
        "id": "Acf-LaZBm0Ad",
        "outputId": "d5e7b49f-1ca8-4e2d-9604-dd7f7e5225a6"
      },
      "execution_count": 6,
      "outputs": [
        {
          "output_type": "stream",
          "name": "stdout",
          "text": [
            "Hello, Github\n",
            "Hello, Python\n",
            "안녕하세요?\n",
            "prigramming에 입문하신 것을 축하드립니다.\n"
          ]
        }
      ]
    }
  ]
}